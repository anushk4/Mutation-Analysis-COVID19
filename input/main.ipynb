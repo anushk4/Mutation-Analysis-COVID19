{
 "cells": [
  {
   "cell_type": "code",
   "execution_count": 1,
   "metadata": {},
   "outputs": [],
   "source": [
    "from Bio import Entrez, SeqIO\n",
    "from Bio.Seq import Seq"
   ]
  },
  {
   "cell_type": "code",
   "execution_count": 2,
   "metadata": {},
   "outputs": [],
   "source": [
    "def sequence_from_fasta_file(file_path, start_position, end_position):  \n",
    "    with open(file_path, \"r\") as f:\n",
    "        fasta_content = f.read().split('\\n')\n",
    "    sequence = \"\"\n",
    "    for line in fasta_content:\n",
    "        if line.startswith(\">\"):\n",
    "            continue\n",
    "        sequence += line.strip()\n",
    "\n",
    "    sequence_range = sequence[start_position-1:end_position]\n",
    "    return sequence_range"
   ]
  },
  {
   "cell_type": "code",
   "execution_count": 3,
   "metadata": {},
   "outputs": [],
   "source": [
    "genes = ['ORF1ab','S','ORF3a','E','M','ORF6','ORF7a','ORF7b','ORF8','N','ORF10']\n",
    "\n",
    "strains = ['CHN','IND','USA','GRB','ZAF','JPN','KOR','CHE']\n",
    "\n",
    "accession_no_strain = ['NC_045512.2','OM915402.1','MT412243.1','MT882022.1','PP522473.1','OK091006.1','OR432315.1','OR575624.1']\n",
    "\n",
    "China = {}\n",
    "India = {}\n",
    "Usa = {}\n",
    "Britain = {}\n",
    "Japan = {}\n",
    "Korea = {}\n",
    "Switzerland = {}\n",
    "SAfrica = {}"
   ]
  },
  {
   "cell_type": "code",
   "execution_count": 17,
   "metadata": {},
   "outputs": [],
   "source": [
    "def create_dict_genes(country,genes,range_values):\n",
    "    for j in range(len(strains)):\n",
    "        for i in range(len(genes)):\n",
    "            start_position = range_values[i][0]\n",
    "            end_position = range_values[i][1]\n",
    "\n",
    "            country[genes[i]] = sequence_from_fasta_file(f\"../fasta_files/{accession_no_strain[j]}.fasta\",start_position,end_position) \n"
   ]
  },
  {
   "cell_type": "code",
   "execution_count": 16,
   "metadata": {},
   "outputs": [],
   "source": [
    "China_range = [(266,21555),(21563,25384),(25393,26220),(26245,26472),(26523,27191),(27202,27387),(27394,27759),(27756,27887),(27894,28259),(28274,29533),(29558,29674)]\n",
    "India_range = [(236,21525),(21533,25354),(25363,26190),(26215,26442),(26493,27161),(27172,27357),(27364,27729),(27726,27857),(27864,28229),(28244,29503),(29528,29644)]\n",
    "Usa_range =  [(255,21544),(21552,25373),(25382,26209),(26234,26461),(26512,27180),(27191,27376), (27383, 27748), (27745,27876),(27883,28241),(28263,29522),(29547,26993)]\n",
    "Britain_range =  [(264,21553),(21561,25382),(25391,26218),(26243,26470),(26521,27189),(27200,27385),(27392,27757),(27754,27885),(27892,28257),(28272,29531),(29556,29672)]\n",
    "Japan_range =  [(239,21528),(21536,25357),(25366,26193),(26218,26445),(26496,27164),(27175,27360),(27367,27732),(27729,27860),(27867,28232),(28247,29506),(29531,29647)]\n",
    "Korea_range =  [(266,21555),(21563,25384),(25393,26220),(26245,26472),(26523,27191),(27202,27387),(27394,27759),(27756,27887),(27894,28259),(28274,29533),(29558,29674)]\n",
    "Switzerland_range =  [(263,21543),(21551,25363),(25372,26199),(26224,26451),(26502,27170),(27181,27366),(27373,27738),(27735,27866),(27873,28238),(28253,29503),(29528,29644)]\n",
    "SAfrica_range =  [(216,21505),(21513,25334),(25343,26170),(26195,26422),(26473,27141),(27152,27337),(27344,27709),(27706,27837),(27844,28209),(28224,29483),(29508,29624)]"
   ]
  },
  {
   "cell_type": "code",
   "execution_count": 18,
   "metadata": {},
   "outputs": [],
   "source": [
    "create_dict_genes(China,genes,China_range)\n",
    "create_dict_genes(India,genes,India_range)\n",
    "create_dict_genes(Usa,genes,Usa_range)\n",
    "create_dict_genes(Britain,genes,Britain_range)\n",
    "create_dict_genes(Japan,genes,Japan_range)\n",
    "create_dict_genes(Korea,genes,Korea_range)\n",
    "create_dict_genes(Switzerland,genes,Switzerland_range)\n",
    "create_dict_genes(SAfrica,genes,SAfrica_range)"
   ]
  }
 ],
 "metadata": {
  "kernelspec": {
   "display_name": "Python 3",
   "language": "python",
   "name": "python3"
  },
  "language_info": {
   "codemirror_mode": {
    "name": "ipython",
    "version": 3
   },
   "file_extension": ".py",
   "mimetype": "text/x-python",
   "name": "python",
   "nbconvert_exporter": "python",
   "pygments_lexer": "ipython3",
   "version": "3.11.3"
  }
 },
 "nbformat": 4,
 "nbformat_minor": 2
}
